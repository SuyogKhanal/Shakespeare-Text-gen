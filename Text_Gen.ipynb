{
  "nbformat": 4,
  "nbformat_minor": 0,
  "metadata": {
    "colab": {
      "provenance": [],
      "gpuType": "T4"
    },
    "kernelspec": {
      "name": "python3",
      "display_name": "Python 3"
    },
    "language_info": {
      "name": "python"
    },
    "accelerator": "GPU"
  },
  "cells": [
    {
      "cell_type": "code",
      "execution_count": 1,
      "metadata": {
        "colab": {
          "base_uri": "https://localhost:8080/"
        },
        "id": "JLAji71Lm8Pc",
        "outputId": "bc786713-abe5-4bec-c68c-942f4c24d425"
      },
      "outputs": [
        {
          "output_type": "stream",
          "name": "stdout",
          "text": [
            "Python version: 3.10.12\n",
            "Tensorflow version: 2.12.0\n",
            "Keras version: 2.12.0\n"
          ]
        }
      ],
      "source": [
        "import tensorflow as tf\n",
        "import matplotlib.pyplot as plt\n",
        "import numpy as np\n",
        "import platform\n",
        "import time\n",
        "import pathlib\n",
        "import os\n",
        "\n",
        "print('Python version:', platform.python_version())\n",
        "print('Tensorflow version:', tf.__version__)\n",
        "print('Keras version:', tf.keras.__version__)"
      ]
    },
    {
      "cell_type": "code",
      "source": [
        "cache_dir = './tmp'\n",
        "dataset_file_name = 'shakespeare.txt'\n",
        "dataset_file_origin = 'https://storage.googleapis.com/download.tensorflow.org/data/shakespeare.txt'\n",
        "\n",
        "dataset_file_path = tf.keras.utils.get_file(\n",
        "    fname=dataset_file_name,\n",
        "    origin=dataset_file_origin,\n",
        "    cache_dir=pathlib.Path(cache_dir).absolute()\n",
        ")\n",
        "\n",
        "print(dataset_file_path)"
      ],
      "metadata": {
        "colab": {
          "base_uri": "https://localhost:8080/"
        },
        "id": "M3fZ1nOnnIRh",
        "outputId": "b2535f80-cdad-42c5-ec32-b4225a5117e1"
      },
      "execution_count": 2,
      "outputs": [
        {
          "output_type": "stream",
          "name": "stdout",
          "text": [
            "Downloading data from https://storage.googleapis.com/download.tensorflow.org/data/shakespeare.txt\n",
            "1115394/1115394 [==============================] - 0s 0us/step\n",
            "/tmp/.keras/datasets/shakespeare.txt\n"
          ]
        }
      ]
    },
    {
      "cell_type": "code",
      "source": [
        "text = open(dataset_file_path, mode='r').read()\n",
        "\n",
        "print('Length of text: {} characters'.format(len(text)))"
      ],
      "metadata": {
        "colab": {
          "base_uri": "https://localhost:8080/"
        },
        "id": "kqdOBYWtnODL",
        "outputId": "4b5ea30d-9fdd-4a0c-e582-485a13316d7d"
      },
      "execution_count": 3,
      "outputs": [
        {
          "output_type": "stream",
          "name": "stdout",
          "text": [
            "Length of text: 1115394 characters\n"
          ]
        }
      ]
    },
    {
      "cell_type": "code",
      "source": [
        "print(text[:250])"
      ],
      "metadata": {
        "colab": {
          "base_uri": "https://localhost:8080/"
        },
        "id": "PQkh30TYnT4I",
        "outputId": "bf4d9204-0cc5-4a18-c2cc-9453b9b19911"
      },
      "execution_count": 4,
      "outputs": [
        {
          "output_type": "stream",
          "name": "stdout",
          "text": [
            "First Citizen:\n",
            "Before we proceed any further, hear me speak.\n",
            "\n",
            "All:\n",
            "Speak, speak.\n",
            "\n",
            "First Citizen:\n",
            "You are all resolved rather to die than to famish?\n",
            "\n",
            "All:\n",
            "Resolved. resolved.\n",
            "\n",
            "First Citizen:\n",
            "First, you know Caius Marcius is chief enemy to the people.\n",
            "\n"
          ]
        }
      ]
    },
    {
      "cell_type": "code",
      "source": [
        "vocab = sorted(set(text))\n",
        "\n",
        "print('{} unique characters'.format(len(vocab)))\n",
        "print('vocab:', vocab)"
      ],
      "metadata": {
        "colab": {
          "base_uri": "https://localhost:8080/"
        },
        "id": "TEeUfgY5nWmK",
        "outputId": "82e23c96-69cd-4119-c087-85cef26bad3f"
      },
      "execution_count": 5,
      "outputs": [
        {
          "output_type": "stream",
          "name": "stdout",
          "text": [
            "65 unique characters\n",
            "vocab: ['\\n', ' ', '!', '$', '&', \"'\", ',', '-', '.', '3', ':', ';', '?', 'A', 'B', 'C', 'D', 'E', 'F', 'G', 'H', 'I', 'J', 'K', 'L', 'M', 'N', 'O', 'P', 'Q', 'R', 'S', 'T', 'U', 'V', 'W', 'X', 'Y', 'Z', 'a', 'b', 'c', 'd', 'e', 'f', 'g', 'h', 'i', 'j', 'k', 'l', 'm', 'n', 'o', 'p', 'q', 'r', 's', 't', 'u', 'v', 'w', 'x', 'y', 'z']\n"
          ]
        }
      ]
    },
    {
      "cell_type": "code",
      "source": [
        "char2index = {char: index for index, char in enumerate(vocab)}\n",
        "\n",
        "print('{')\n",
        "for char, _ in zip(char2index, range(20)):\n",
        "    print('  {:4s}: {:3d},'.format(repr(char), char2index[char]))\n",
        "print('  ...\\n}')"
      ],
      "metadata": {
        "colab": {
          "base_uri": "https://localhost:8080/"
        },
        "id": "BkkGA88qnZD0",
        "outputId": "039cc782-60e2-434a-e0f5-bb14d98446c6"
      },
      "execution_count": 6,
      "outputs": [
        {
          "output_type": "stream",
          "name": "stdout",
          "text": [
            "{\n",
            "  '\\n':   0,\n",
            "  ' ' :   1,\n",
            "  '!' :   2,\n",
            "  '$' :   3,\n",
            "  '&' :   4,\n",
            "  \"'\" :   5,\n",
            "  ',' :   6,\n",
            "  '-' :   7,\n",
            "  '.' :   8,\n",
            "  '3' :   9,\n",
            "  ':' :  10,\n",
            "  ';' :  11,\n",
            "  '?' :  12,\n",
            "  'A' :  13,\n",
            "  'B' :  14,\n",
            "  'C' :  15,\n",
            "  'D' :  16,\n",
            "  'E' :  17,\n",
            "  'F' :  18,\n",
            "  'G' :  19,\n",
            "  ...\n",
            "}\n"
          ]
        }
      ]
    },
    {
      "cell_type": "code",
      "source": [
        "index2char = np.array(vocab)\n",
        "print(index2char)"
      ],
      "metadata": {
        "colab": {
          "base_uri": "https://localhost:8080/"
        },
        "id": "55AqWtNKnbnk",
        "outputId": "47c31e3f-114a-45b9-caa0-d3d0ead50a38"
      },
      "execution_count": 7,
      "outputs": [
        {
          "output_type": "stream",
          "name": "stdout",
          "text": [
            "['\\n' ' ' '!' '$' '&' \"'\" ',' '-' '.' '3' ':' ';' '?' 'A' 'B' 'C' 'D' 'E'\n",
            " 'F' 'G' 'H' 'I' 'J' 'K' 'L' 'M' 'N' 'O' 'P' 'Q' 'R' 'S' 'T' 'U' 'V' 'W'\n",
            " 'X' 'Y' 'Z' 'a' 'b' 'c' 'd' 'e' 'f' 'g' 'h' 'i' 'j' 'k' 'l' 'm' 'n' 'o'\n",
            " 'p' 'q' 'r' 's' 't' 'u' 'v' 'w' 'x' 'y' 'z']\n"
          ]
        }
      ]
    },
    {
      "cell_type": "code",
      "source": [
        "text_as_int = np.array([char2index[char] for char in text])\n",
        "\n",
        "print('text_as_int length: {}'.format(len(text_as_int)))\n",
        "print('{} --> {}'.format(repr(text[:15]), repr(text_as_int[:15])))"
      ],
      "metadata": {
        "colab": {
          "base_uri": "https://localhost:8080/"
        },
        "id": "Zr3gGHxine5U",
        "outputId": "035d2d7b-7662-4079-a5a3-c8fbf2e1306a"
      },
      "execution_count": 8,
      "outputs": [
        {
          "output_type": "stream",
          "name": "stdout",
          "text": [
            "text_as_int length: 1115394\n",
            "'First Citizen:\\n' --> array([18, 47, 56, 57, 58,  1, 15, 47, 58, 47, 64, 43, 52, 10,  0])\n"
          ]
        }
      ]
    },
    {
      "cell_type": "code",
      "source": [
        "sequence_length = 100\n",
        "examples_per_epoch = len(text) // (sequence_length + 1)\n",
        "\n",
        "print('examples_per_epoch:', examples_per_epoch)"
      ],
      "metadata": {
        "colab": {
          "base_uri": "https://localhost:8080/"
        },
        "id": "_cPurWhSnhU8",
        "outputId": "114a4e2d-4301-4a31-f07d-ca2a644965f9"
      },
      "execution_count": 9,
      "outputs": [
        {
          "output_type": "stream",
          "name": "stdout",
          "text": [
            "examples_per_epoch: 11043\n"
          ]
        }
      ]
    },
    {
      "cell_type": "code",
      "source": [
        "char_dataset = tf.data.Dataset.from_tensor_slices(text_as_int)\n",
        "\n",
        "for char in char_dataset.take(5):\n",
        "    print(index2char[char.numpy()])"
      ],
      "metadata": {
        "colab": {
          "base_uri": "https://localhost:8080/"
        },
        "id": "RO5P50DvnkPF",
        "outputId": "6d56d30d-29fb-4a53-d282-462c451f7d8e"
      },
      "execution_count": 10,
      "outputs": [
        {
          "output_type": "stream",
          "name": "stdout",
          "text": [
            "F\n",
            "i\n",
            "r\n",
            "s\n",
            "t\n"
          ]
        }
      ]
    },
    {
      "cell_type": "code",
      "source": [
        "sequences = char_dataset.batch(sequence_length + 1, drop_remainder=True)\n",
        "\n",
        "print('Sequences count: {}'.format(len(list(sequences.as_numpy_iterator()))));\n",
        "print()\n",
        "\n",
        "for item in sequences.take(5):\n",
        "    print(repr(''.join(index2char[item.numpy()])))"
      ],
      "metadata": {
        "colab": {
          "base_uri": "https://localhost:8080/"
        },
        "id": "_3o37s0mnmbV",
        "outputId": "3396742f-c23c-40d9-bca3-63744343348c"
      },
      "execution_count": 11,
      "outputs": [
        {
          "output_type": "stream",
          "name": "stdout",
          "text": [
            "Sequences count: 11043\n",
            "\n",
            "'First Citizen:\\nBefore we proceed any further, hear me speak.\\n\\nAll:\\nSpeak, speak.\\n\\nFirst Citizen:\\nYou '\n",
            "'are all resolved rather to die than to famish?\\n\\nAll:\\nResolved. resolved.\\n\\nFirst Citizen:\\nFirst, you k'\n",
            "\"now Caius Marcius is chief enemy to the people.\\n\\nAll:\\nWe know't, we know't.\\n\\nFirst Citizen:\\nLet us ki\"\n",
            "\"ll him, and we'll have corn at our own price.\\nIs't a verdict?\\n\\nAll:\\nNo more talking on't; let it be d\"\n",
            "'one: away, away!\\n\\nSecond Citizen:\\nOne word, good citizens.\\n\\nFirst Citizen:\\nWe are accounted poor citi'\n"
          ]
        }
      ]
    },
    {
      "cell_type": "code",
      "source": [
        "def split_input_target(chunk):\n",
        "    input_text = chunk[:-1]\n",
        "    target_text = chunk[1:]\n",
        "    return input_text, target_text\n"
      ],
      "metadata": {
        "id": "kKl6aR2OnrDJ"
      },
      "execution_count": 12,
      "outputs": []
    },
    {
      "cell_type": "code",
      "source": [
        "dataset = sequences.map(split_input_target)\n",
        "print('dataset size: {}'.format(len(list(dataset.as_numpy_iterator()))))\n"
      ],
      "metadata": {
        "colab": {
          "base_uri": "https://localhost:8080/"
        },
        "id": "FIalUspZnubm",
        "outputId": "6ba8f532-541c-4028-f69e-bf730ead1604"
      },
      "execution_count": 13,
      "outputs": [
        {
          "output_type": "stream",
          "name": "stdout",
          "text": [
            "dataset size: 11043\n"
          ]
        }
      ]
    },
    {
      "cell_type": "code",
      "source": [
        "for input_example, target_example in dataset.take(1):\n",
        "    print('Input sequence size:', repr(len(input_example.numpy())))\n",
        "    print('Target sequence size:', repr(len(target_example.numpy())))\n",
        "    print()\n",
        "    print('Input:', repr(''.join(index2char[input_example.numpy()])))\n",
        "    print('Target:', repr(''.join(index2char[target_example.numpy()])))"
      ],
      "metadata": {
        "colab": {
          "base_uri": "https://localhost:8080/"
        },
        "id": "yDEXKp3EnxqD",
        "outputId": "2e772df0-274e-433d-e1b3-144ea6ae304f"
      },
      "execution_count": 14,
      "outputs": [
        {
          "output_type": "stream",
          "name": "stdout",
          "text": [
            "Input sequence size: 100\n",
            "Target sequence size: 100\n",
            "\n",
            "Input: 'First Citizen:\\nBefore we proceed any further, hear me speak.\\n\\nAll:\\nSpeak, speak.\\n\\nFirst Citizen:\\nYou'\n",
            "Target: 'irst Citizen:\\nBefore we proceed any further, hear me speak.\\n\\nAll:\\nSpeak, speak.\\n\\nFirst Citizen:\\nYou '\n"
          ]
        }
      ]
    },
    {
      "cell_type": "code",
      "source": [
        "for i, (input_idx, target_idx) in enumerate(zip(input_example[:5], target_example[:5])):\n",
        "    print('Step {:2d}'.format(i))\n",
        "    print('  input: {} ({:s})'.format(input_idx, repr(index2char[input_idx])))\n",
        "    print('  expected output: {} ({:s})'.format(target_idx, repr(index2char[target_idx])))\n"
      ],
      "metadata": {
        "colab": {
          "base_uri": "https://localhost:8080/"
        },
        "id": "3A6KMS72nzys",
        "outputId": "9136a5ce-f8f0-42e2-f377-277b23f6e27f"
      },
      "execution_count": 15,
      "outputs": [
        {
          "output_type": "stream",
          "name": "stdout",
          "text": [
            "Step  0\n",
            "  input: 18 ('F')\n",
            "  expected output: 47 ('i')\n",
            "Step  1\n",
            "  input: 47 ('i')\n",
            "  expected output: 56 ('r')\n",
            "Step  2\n",
            "  input: 56 ('r')\n",
            "  expected output: 57 ('s')\n",
            "Step  3\n",
            "  input: 57 ('s')\n",
            "  expected output: 58 ('t')\n",
            "Step  4\n",
            "  input: 58 ('t')\n",
            "  expected output: 1 (' ')\n"
          ]
        }
      ]
    },
    {
      "cell_type": "code",
      "source": [
        "BATCH_SIZE = 64\n",
        "BUFFER_SIZE = 10000\n",
        "dataset = dataset.shuffle(BUFFER_SIZE).batch(BATCH_SIZE, drop_remainder=True)\n",
        "dataset"
      ],
      "metadata": {
        "colab": {
          "base_uri": "https://localhost:8080/"
        },
        "id": "BjwOOofNn7AU",
        "outputId": "c7c6162c-23f0-4dfb-bb0c-87153dd87652"
      },
      "execution_count": 16,
      "outputs": [
        {
          "output_type": "execute_result",
          "data": {
            "text/plain": [
              "<_BatchDataset element_spec=(TensorSpec(shape=(64, 100), dtype=tf.int64, name=None), TensorSpec(shape=(64, 100), dtype=tf.int64, name=None))>"
            ]
          },
          "metadata": {},
          "execution_count": 16
        }
      ]
    },
    {
      "cell_type": "code",
      "source": [
        "print('Batched dataset size: {}'.format(len(list(dataset.as_numpy_iterator()))))\n"
      ],
      "metadata": {
        "colab": {
          "base_uri": "https://localhost:8080/"
        },
        "id": "jXCVsQp7oUIo",
        "outputId": "4e021866-abbc-44d4-8323-c593a512f74e"
      },
      "execution_count": 17,
      "outputs": [
        {
          "output_type": "stream",
          "name": "stdout",
          "text": [
            "Batched dataset size: 172\n"
          ]
        }
      ]
    },
    {
      "cell_type": "code",
      "source": [
        "for input_text, target_text in dataset.take(1):\n",
        "    print('1st batch: input_text:', input_text)\n",
        "    print()\n",
        "    print('1st batch: target_text:', target_text)"
      ],
      "metadata": {
        "colab": {
          "base_uri": "https://localhost:8080/"
        },
        "id": "8-QC_w1HoWX2",
        "outputId": "ca5a3b2a-25d8-48f3-f0b1-e2ff69ceb40a"
      },
      "execution_count": 18,
      "outputs": [
        {
          "output_type": "stream",
          "name": "stdout",
          "text": [
            "1st batch: input_text: tf.Tensor(\n",
            "[[53 59  1 ... 13 30 17]\n",
            " [46 43  1 ... 48 43 57]\n",
            " [43  1 45 ... 46  1 15]\n",
            " ...\n",
            " [ 5 14 43 ...  1 24 59]\n",
            " [30 17 32 ... 40 56 47]\n",
            " [23 21 26 ... 43  1 53]], shape=(64, 100), dtype=int64)\n",
            "\n",
            "1st batch: target_text: tf.Tensor(\n",
            "[[59  1 46 ... 30 17 26]\n",
            " [43  1 57 ... 43 57 58]\n",
            " [ 1 45 59 ...  1 15 39]\n",
            " ...\n",
            " [14 43  1 ... 24 59 41]\n",
            " [17 32 10 ... 56 47 52]\n",
            " [21 26 19 ...  1 53 44]], shape=(64, 100), dtype=int64)\n"
          ]
        }
      ]
    },
    {
      "cell_type": "code",
      "source": [
        "tmp_vocab_size = 10\n",
        "tmp_embeding_size = 5\n",
        "tmp_input_length = 8\n",
        "tmp_batch_size = 2\n",
        "\n",
        "tmp_model = tf.keras.models.Sequential()\n",
        "tmp_model.add(tf.keras.layers.Embedding(\n",
        "  input_dim=tmp_vocab_size,\n",
        "  output_dim=tmp_embeding_size,\n",
        "  input_length=tmp_input_length\n",
        "))\n",
        "tmp_input_array = np.random.randint(\n",
        "  low=0,\n",
        "  high=tmp_vocab_size,\n",
        "  size=(tmp_batch_size, tmp_input_length)\n",
        ")\n",
        "tmp_model.compile('rmsprop', 'mse')\n",
        "tmp_output_array = tmp_model.predict(tmp_input_array)\n",
        "\n",
        "print('tmp_input_array shape:', tmp_input_array.shape)\n",
        "print('tmp_input_array:')\n",
        "print(tmp_input_array)\n",
        "print()\n",
        "print('tmp_output_array shape:', tmp_output_array.shape)\n",
        "print('tmp_output_array:')\n",
        "print(tmp_output_array)"
      ],
      "metadata": {
        "colab": {
          "base_uri": "https://localhost:8080/"
        },
        "id": "mCYQPkyVoYRo",
        "outputId": "a2ea6ec5-60e3-407a-c2d2-804da82e88a7"
      },
      "execution_count": 19,
      "outputs": [
        {
          "output_type": "stream",
          "name": "stdout",
          "text": [
            "1/1 [==============================] - 0s 89ms/step\n",
            "tmp_input_array shape: (2, 8)\n",
            "tmp_input_array:\n",
            "[[7 2 9 8 8 2 5 4]\n",
            " [2 8 1 6 8 7 5 6]]\n",
            "\n",
            "tmp_output_array shape: (2, 8, 5)\n",
            "tmp_output_array:\n",
            "[[[-0.03805733 -0.04618229 -0.00244391 -0.02721959  0.04586801]\n",
            "  [ 0.04131445  0.01387508  0.04405334  0.02120615  0.01994011]\n",
            "  [ 0.00403463  0.04472032 -0.02920393  0.03242936  0.04108052]\n",
            "  [ 0.02558932 -0.04431465 -0.02975049 -0.01501608 -0.00594743]\n",
            "  [ 0.02558932 -0.04431465 -0.02975049 -0.01501608 -0.00594743]\n",
            "  [ 0.04131445  0.01387508  0.04405334  0.02120615  0.01994011]\n",
            "  [-0.04248513  0.00800109 -0.03839345 -0.0082827   0.03317926]\n",
            "  [ 0.01931668  0.02631918  0.01035615 -0.0240395  -0.02042196]]\n",
            "\n",
            " [[ 0.04131445  0.01387508  0.04405334  0.02120615  0.01994011]\n",
            "  [ 0.02558932 -0.04431465 -0.02975049 -0.01501608 -0.00594743]\n",
            "  [-0.03084821  0.04994309  0.01742199  0.04742238  0.04452835]\n",
            "  [-0.04174707 -0.01244035  0.0216782  -0.02765918 -0.01286999]\n",
            "  [ 0.02558932 -0.04431465 -0.02975049 -0.01501608 -0.00594743]\n",
            "  [-0.03805733 -0.04618229 -0.00244391 -0.02721959  0.04586801]\n",
            "  [-0.04248513  0.00800109 -0.03839345 -0.0082827   0.03317926]\n",
            "  [-0.04174707 -0.01244035  0.0216782  -0.02765918 -0.01286999]]]\n"
          ]
        }
      ]
    },
    {
      "cell_type": "code",
      "source": [
        "vocab_size = len(vocab)\n",
        "\n",
        "embedding_dim = 256\n",
        "\n",
        "rnn_units = 2056"
      ],
      "metadata": {
        "id": "sy1bTcruod4o"
      },
      "execution_count": 20,
      "outputs": []
    },
    {
      "cell_type": "code",
      "source": [
        "def build_model(vocab_size, embedding_dim, rnn_units, batch_size):\n",
        "    model = tf.keras.models.Sequential()\n",
        "\n",
        "    model.add(tf.keras.layers.Embedding(\n",
        "      input_dim=vocab_size,\n",
        "      output_dim=embedding_dim,\n",
        "      batch_input_shape=[batch_size, None]\n",
        "    ))\n",
        "\n",
        "    model.add(tf.keras.layers.LSTM(\n",
        "      units=rnn_units,\n",
        "      return_sequences=True,\n",
        "      stateful=True,\n",
        "      recurrent_initializer=tf.keras.initializers.GlorotNormal()\n",
        "    ))\n",
        "\n",
        "    model.add(tf.keras.layers.Dense(vocab_size))\n",
        "\n",
        "    return model"
      ],
      "metadata": {
        "id": "I9zJtiwSokFK"
      },
      "execution_count": 21,
      "outputs": []
    },
    {
      "cell_type": "code",
      "source": [
        "model = build_model(vocab_size, embedding_dim, rnn_units, BATCH_SIZE)\n"
      ],
      "metadata": {
        "id": "AB54CEcwomSG"
      },
      "execution_count": 22,
      "outputs": []
    },
    {
      "cell_type": "code",
      "source": [
        "model.summary()\n"
      ],
      "metadata": {
        "colab": {
          "base_uri": "https://localhost:8080/"
        },
        "id": "RC6iXTnzon-w",
        "outputId": "dfb8eb90-db76-417d-b633-f1f46c639779"
      },
      "execution_count": 23,
      "outputs": [
        {
          "output_type": "stream",
          "name": "stdout",
          "text": [
            "Model: \"sequential_1\"\n",
            "_________________________________________________________________\n",
            " Layer (type)                Output Shape              Param #   \n",
            "=================================================================\n",
            " embedding_1 (Embedding)     (64, None, 256)           16640     \n",
            "                                                                 \n",
            " lstm (LSTM)                 (64, None, 2056)          19022112  \n",
            "                                                                 \n",
            " dense (Dense)               (64, None, 65)            133705    \n",
            "                                                                 \n",
            "=================================================================\n",
            "Total params: 19,172,457\n",
            "Trainable params: 19,172,457\n",
            "Non-trainable params: 0\n",
            "_________________________________________________________________\n"
          ]
        }
      ]
    },
    {
      "cell_type": "code",
      "source": [
        "tf.keras.utils.plot_model(\n",
        "    model,\n",
        "    show_shapes=True,\n",
        "    show_layer_names=True,\n",
        ")"
      ],
      "metadata": {
        "colab": {
          "base_uri": "https://localhost:8080/",
          "height": 422
        },
        "id": "1eZLzjCkopmD",
        "outputId": "e117828f-9124-49e1-ef1f-56ef80d73fc2"
      },
      "execution_count": 24,
      "outputs": [
        {
          "output_type": "execute_result",
          "data": {
            "image/png": "[encoded data removed]",
            "text/plain": [
              "<IPython.core.display.Image object>"
            ]
          },
          "metadata": {},
          "execution_count": 24
        }
      ]
    },
    {
      "cell_type": "code",
      "source": [
        "for input_example_batch, target_example_batch in dataset.take(1):\n",
        "    example_batch_predictions = model(input_example_batch)\n",
        "    print(example_batch_predictions.shape, \"# (batch_size, sequence_length, vocab_size)\")"
      ],
      "metadata": {
        "colab": {
          "base_uri": "https://localhost:8080/"
        },
        "id": "Pqwc7p6ForoT",
        "outputId": "5371ce3c-3e6a-4509-8ea0-3301ad290f54"
      },
      "execution_count": 25,
      "outputs": [
        {
          "output_type": "stream",
          "name": "stdout",
          "text": [
            "(64, 100, 65) # (batch_size, sequence_length, vocab_size)\n"
          ]
        }
      ]
    },
    {
      "cell_type": "code",
      "source": [
        "print('Prediction for the 1st letter of the batch 1st sequense:')\n",
        "print(example_batch_predictions[0, 0])"
      ],
      "metadata": {
        "colab": {
          "base_uri": "https://localhost:8080/"
        },
        "id": "CLVBLNb2ozid",
        "outputId": "58b8a47e-55d3-43dd-d964-2994e4f96484"
      },
      "execution_count": 26,
      "outputs": [
        {
          "output_type": "stream",
          "name": "stdout",
          "text": [
            "Prediction for the 1st letter of the batch 1st sequense:\n",
            "tf.Tensor(\n",
            "[ 5.46264090e-03  1.02081557e-03  5.39984554e-04 -3.81795992e-03\n",
            "  1.86567777e-03  1.72833633e-03  3.46944667e-03 -6.18034042e-04\n",
            "  4.26930143e-03  3.12647317e-05 -2.04079808e-03 -5.75046102e-03\n",
            " -5.42854425e-03  4.04066057e-04  5.82455890e-04  1.65192958e-03\n",
            " -3.07369861e-03  2.86419713e-03  4.08463506e-03  2.33508949e-03\n",
            " -5.65191614e-04 -4.12581768e-03 -5.22819464e-04  2.96047702e-03\n",
            "  1.27956900e-03 -1.26134168e-04  4.16828599e-03 -4.94181062e-04\n",
            " -5.27747115e-03  4.04818356e-03  7.29740481e-04 -5.62516041e-04\n",
            " -6.08372618e-04 -9.41639533e-04  3.54653248e-03  1.83909526e-03\n",
            "  1.33438886e-03  1.18210993e-03  3.65653716e-04 -1.84647250e-03\n",
            "  2.53393245e-03  2.16115848e-03 -2.29989667e-03  8.29505152e-05\n",
            "  1.82464160e-03 -3.40109284e-04  1.13194017e-03 -2.01112637e-03\n",
            " -4.35697788e-04 -5.02700044e-04  3.57709290e-03 -2.21775915e-03\n",
            "  3.02565517e-03 -7.14183133e-03 -5.38948178e-03  4.16679122e-03\n",
            " -3.46389762e-03  3.15894070e-03  1.05083396e-03  1.07905944e-04\n",
            "  4.05322714e-03  1.55043229e-03  3.14488920e-04  1.49762759e-03\n",
            " -2.60460004e-03], shape=(65,), dtype=float32)\n"
          ]
        }
      ]
    },
    {
      "cell_type": "code",
      "source": [
        "tmp_logits = [\n",
        "  [-0.95, 0, 0.95],\n",
        "];\n",
        "\n",
        "tmp_samples = tf.random.categorical(\n",
        "    logits=tmp_logits,\n",
        "    num_samples=5\n",
        ")\n",
        "\n",
        "print(tmp_samples)\n"
      ],
      "metadata": {
        "colab": {
          "base_uri": "https://localhost:8080/"
        },
        "id": "Q7hcV3bwo-wz",
        "outputId": "0700b92c-d55f-47c7-c305-253c6bb8c1f9"
      },
      "execution_count": 27,
      "outputs": [
        {
          "output_type": "stream",
          "name": "stdout",
          "text": [
            "tf.Tensor([[2 1 2 0 1]], shape=(1, 5), dtype=int64)\n"
          ]
        }
      ]
    },
    {
      "cell_type": "code",
      "source": [
        "sampled_indices = tf.random.categorical(\n",
        "    logits=example_batch_predictions[0],\n",
        "    num_samples=1\n",
        ")\n",
        "\n",
        "sampled_indices.shape"
      ],
      "metadata": {
        "colab": {
          "base_uri": "https://localhost:8080/"
        },
        "id": "Gp3fBIL9pFHA",
        "outputId": "5e87f6aa-2c30-42eb-c9aa-9c206d45d03e"
      },
      "execution_count": 28,
      "outputs": [
        {
          "output_type": "execute_result",
          "data": {
            "text/plain": [
              "TensorShape([100, 1])"
            ]
          },
          "metadata": {},
          "execution_count": 28
        }
      ]
    },
    {
      "cell_type": "code",
      "source": [
        "sampled_indices = tf.squeeze(\n",
        "    input=sampled_indices,\n",
        "    axis=-1\n",
        ").numpy()\n",
        "\n",
        "sampled_indices.shape"
      ],
      "metadata": {
        "colab": {
          "base_uri": "https://localhost:8080/"
        },
        "id": "3Magcf3ipLNg",
        "outputId": "7d32a85b-7da9-4320-9fb3-573945de35e8"
      },
      "execution_count": 29,
      "outputs": [
        {
          "output_type": "execute_result",
          "data": {
            "text/plain": [
              "(100,)"
            ]
          },
          "metadata": {},
          "execution_count": 29
        }
      ]
    },
    {
      "cell_type": "code",
      "source": [
        "sampled_indices"
      ],
      "metadata": {
        "colab": {
          "base_uri": "https://localhost:8080/"
        },
        "id": "uwA8SObspSDn",
        "outputId": "b23efdf8-eeac-4567-c119-9b752fb2ea1c"
      },
      "execution_count": 30,
      "outputs": [
        {
          "output_type": "execute_result",
          "data": {
            "text/plain": [
              "array([28, 40, 52,  2, 25,  9, 48, 26, 23, 26, 12, 23, 21,  6, 61, 45, 35,\n",
              "       64,  6, 61, 43, 58, 38, 54, 45,  7, 20, 42, 36, 33,  8,  3,  8,  2,\n",
              "       47, 28, 23, 14, 13,  6, 20, 51, 26, 52, 33, 49, 12, 10, 31, 57, 19,\n",
              "        1, 31, 41, 55, 22, 12, 11, 47,  6,  2, 45, 24, 48, 47, 54,  2, 30,\n",
              "        5, 53, 31, 28,  9, 41, 28, 43, 58, 53, 33, 50, 51, 52, 11, 59, 19,\n",
              "        7, 45, 46,  4, 51, 51, 39, 49, 44,  4, 52, 32, 10, 46, 18])"
            ]
          },
          "metadata": {},
          "execution_count": 30
        }
      ]
    },
    {
      "cell_type": "code",
      "source": [
        "print('Input:\\n', repr(''.join(index2char[input_example_batch[0]])))\n",
        "print()\n",
        "print('Next char prediction:\\n', repr(''.join(index2char[sampled_indices])))"
      ],
      "metadata": {
        "colab": {
          "base_uri": "https://localhost:8080/"
        },
        "id": "3e9tZTy0pZHL",
        "outputId": "9c6f4695-5645-4b77-a518-ec9b32331589"
      },
      "execution_count": 31,
      "outputs": [
        {
          "output_type": "stream",
          "name": "stdout",
          "text": [
            "Input:\n",
            " 'vish-fond in great designs.\\n\\nQUEEN ELIZABETH:\\nShall I be tempted of the devil thus?\\n\\nKING RICHARD II'\n",
            "\n",
            "Next char prediction:\n",
            " \"Pbn!M3jNKN?KI,wgWz,wetZpg-HdXU.$.!iPKBA,HmNnUk?:SsG ScqJ?;i,!gLjip!R'oSP3cPetoUlmn;uG-gh&mmakf&nT:hF\"\n"
          ]
        }
      ]
    },
    {
      "cell_type": "code",
      "source": [
        "for i, (input_idx, sample_idx) in enumerate(zip(input_example_batch[0][:5], sampled_indices[:5])):\n",
        "    print('Prediction {:2d}'.format(i))\n",
        "    print('  input: {} ({:s})'.format(input_idx, repr(index2char[input_idx])))\n",
        "    print('  next predicted: {} ({:s})'.format(target_idx, repr(index2char[sample_idx])))"
      ],
      "metadata": {
        "colab": {
          "base_uri": "https://localhost:8080/"
        },
        "id": "qWg74K-UpgCN",
        "outputId": "285f55da-1e06-4de5-d7bf-33048543571b"
      },
      "execution_count": 32,
      "outputs": [
        {
          "output_type": "stream",
          "name": "stdout",
          "text": [
            "Prediction  0\n",
            "  input: 60 ('v')\n",
            "  next predicted: 1 ('P')\n",
            "Prediction  1\n",
            "  input: 47 ('i')\n",
            "  next predicted: 1 ('b')\n",
            "Prediction  2\n",
            "  input: 57 ('s')\n",
            "  next predicted: 1 ('n')\n",
            "Prediction  3\n",
            "  input: 46 ('h')\n",
            "  next predicted: 1 ('!')\n",
            "Prediction  4\n",
            "  input: 7 ('-')\n",
            "  next predicted: 1 ('M')\n"
          ]
        }
      ]
    },
    {
      "cell_type": "code",
      "source": [
        "def loss(labels, logits):\n",
        "    return tf.keras.losses.sparse_categorical_crossentropy(\n",
        "      y_true=labels,\n",
        "      y_pred=logits,\n",
        "      from_logits=True\n",
        "    )\n",
        "\n",
        "example_batch_loss = loss(target_example_batch, example_batch_predictions)\n",
        "\n",
        "print(\"Prediction shape: \", example_batch_predictions.shape, \" # (batch_size, sequence_length, vocab_size)\")\n",
        "print(\"scalar_loss:      \", example_batch_loss.numpy().mean())"
      ],
      "metadata": {
        "colab": {
          "base_uri": "https://localhost:8080/"
        },
        "id": "Gv33xV82ppLf",
        "outputId": "32cf338f-92f2-402d-8288-e7da2187dff4"
      },
      "execution_count": 33,
      "outputs": [
        {
          "output_type": "stream",
          "name": "stdout",
          "text": [
            "Prediction shape:  (64, 100, 65)  # (batch_size, sequence_length, vocab_size)\n",
            "scalar_loss:       4.1732054\n"
          ]
        }
      ]
    },
    {
      "cell_type": "code",
      "source": [
        "adam_optimizer = tf.keras.optimizers.Adam(learning_rate=0.001)\n",
        "model.compile(\n",
        "    optimizer=adam_optimizer,\n",
        "    loss=loss\n",
        ")"
      ],
      "metadata": {
        "id": "SmkwjU4gp9Wl"
      },
      "execution_count": 34,
      "outputs": []
    },
    {
      "cell_type": "code",
      "source": [
        "checkpoint_dir = 'tmp/checkpoints'\n",
        "os.makedirs(checkpoint_dir, exist_ok=True)\n",
        "\n",
        "checkpoint_prefix = os.path.join(checkpoint_dir, 'ckpt_{epoch}')\n",
        "\n",
        "checkpoint_callback=tf.keras.callbacks.ModelCheckpoint(\n",
        "    filepath=checkpoint_prefix,\n",
        "    save_weights_only=True\n",
        ")"
      ],
      "metadata": {
        "id": "GlWK9CzQqA_9"
      },
      "execution_count": 35,
      "outputs": []
    },
    {
      "cell_type": "code",
      "source": [
        "EPOCHS=40\n",
        "history = model.fit(\n",
        "  x=dataset,\n",
        "  epochs=EPOCHS,\n",
        "  callbacks=[\n",
        "    checkpoint_callback\n",
        "  ]\n",
        ")"
      ],
      "metadata": {
        "colab": {
          "base_uri": "https://localhost:8080/"
        },
        "id": "enAn2FuWqHq_",
        "outputId": "a5979fe9-e79b-4dd8-affd-1b1301a2aed0"
      },
      "execution_count": 36,
      "outputs": [
        {
          "output_type": "stream",
          "name": "stdout",
          "text": [
            "Epoch 1/40\n",
            "172/172 [==============================] - 50s 256ms/step - loss: 2.6971\n",
            "Epoch 2/40\n",
            "172/172 [==============================] - 49s 275ms/step - loss: 1.9331\n",
            "Epoch 3/40\n",
            "172/172 [==============================] - 48s 267ms/step - loss: 1.6561\n",
            "Epoch 4/40\n",
            "172/172 [==============================] - 50s 274ms/step - loss: 1.5038\n",
            "Epoch 5/40\n",
            "172/172 [==============================] - 49s 271ms/step - loss: 1.4107\n",
            "Epoch 6/40\n",
            "172/172 [==============================] - 49s 272ms/step - loss: 1.3460\n",
            "Epoch 7/40\n",
            "172/172 [==============================] - 49s 276ms/step - loss: 1.2922\n",
            "Epoch 8/40\n",
            "172/172 [==============================] - 49s 271ms/step - loss: 1.2427\n",
            "Epoch 9/40\n",
            "172/172 [==============================] - 50s 277ms/step - loss: 1.1919\n",
            "Epoch 10/40\n",
            "172/172 [==============================] - 48s 267ms/step - loss: 1.1376\n",
            "Epoch 11/40\n",
            "172/172 [==============================] - 49s 276ms/step - loss: 1.0784\n",
            "Epoch 12/40\n",
            "172/172 [==============================] - 50s 276ms/step - loss: 1.0098\n",
            "Epoch 13/40\n",
            "172/172 [==============================] - 48s 267ms/step - loss: 0.9361\n",
            "Epoch 14/40\n",
            "172/172 [==============================] - 49s 272ms/step - loss: 0.8547\n",
            "Epoch 15/40\n",
            "172/172 [==============================] - 49s 270ms/step - loss: 0.7722\n",
            "Epoch 16/40\n",
            "172/172 [==============================] - 49s 273ms/step - loss: 0.6921\n",
            "Epoch 17/40\n",
            "172/172 [==============================] - 49s 276ms/step - loss: 0.6186\n",
            "Epoch 18/40\n",
            "172/172 [==============================] - 49s 274ms/step - loss: 0.5523\n",
            "Epoch 19/40\n",
            "172/172 [==============================] - 49s 275ms/step - loss: 0.4969\n",
            "Epoch 20/40\n",
            "172/172 [==============================] - 48s 267ms/step - loss: 0.4514\n",
            "Epoch 21/40\n",
            "172/172 [==============================] - 49s 272ms/step - loss: 0.4158\n",
            "Epoch 22/40\n",
            "172/172 [==============================] - 48s 270ms/step - loss: 0.3869\n",
            "Epoch 23/40\n",
            "172/172 [==============================] - 49s 271ms/step - loss: 0.3671\n",
            "Epoch 24/40\n",
            "172/172 [==============================] - 49s 272ms/step - loss: 0.3491\n",
            "Epoch 25/40\n",
            "172/172 [==============================] - 50s 277ms/step - loss: 0.3380\n",
            "Epoch 26/40\n",
            "172/172 [==============================] - 49s 275ms/step - loss: 0.3268\n",
            "Epoch 27/40\n",
            "172/172 [==============================] - 49s 276ms/step - loss: 0.3229\n",
            "Epoch 28/40\n",
            "172/172 [==============================] - 48s 269ms/step - loss: 0.3171\n",
            "Epoch 29/40\n",
            "172/172 [==============================] - 49s 272ms/step - loss: 0.3134\n",
            "Epoch 30/40\n",
            "172/172 [==============================] - 49s 272ms/step - loss: 0.3098\n",
            "Epoch 31/40\n",
            "172/172 [==============================] - 50s 272ms/step - loss: 0.3075\n",
            "Epoch 32/40\n",
            "172/172 [==============================] - 49s 271ms/step - loss: 0.3051\n",
            "Epoch 33/40\n",
            "172/172 [==============================] - 49s 271ms/step - loss: 0.3021\n",
            "Epoch 34/40\n",
            "172/172 [==============================] - 48s 270ms/step - loss: 0.3010\n",
            "Epoch 35/40\n",
            "172/172 [==============================] - 49s 273ms/step - loss: 0.3022\n",
            "Epoch 36/40\n",
            "172/172 [==============================] - 49s 276ms/step - loss: 0.3033\n",
            "Epoch 37/40\n",
            "172/172 [==============================] - 48s 269ms/step - loss: 0.3057\n",
            "Epoch 38/40\n",
            "172/172 [==============================] - 50s 274ms/step - loss: 0.3058\n",
            "Epoch 39/40\n",
            "172/172 [==============================] - 49s 272ms/step - loss: 0.3069\n",
            "Epoch 40/40\n",
            "172/172 [==============================] - 50s 277ms/step - loss: 0.3088\n"
          ]
        }
      ]
    },
    {
      "cell_type": "code",
      "source": [
        "def render_training_history(training_history):\n",
        "    loss = training_history.history['loss']\n",
        "    plt.title('Loss')\n",
        "    plt.xlabel('Epoch')\n",
        "    plt.ylabel('Loss')\n",
        "    plt.plot(loss, label='Training set')\n",
        "    plt.legend()\n",
        "    plt.grid(linestyle='--', linewidth=1, alpha=0.5)\n",
        "    plt.show()"
      ],
      "metadata": {
        "id": "XmowrwpFqMOl"
      },
      "execution_count": 37,
      "outputs": []
    },
    {
      "cell_type": "code",
      "source": [
        "render_training_history(history)"
      ],
      "metadata": {
        "id": "sMSQsuZbqT2r",
        "colab": {
          "base_uri": "https://localhost:8080/",
          "height": 472
        },
        "outputId": "bd814425-7500-4f72-b6f9-4b8590dc7710"
      },
      "execution_count": 38,
      "outputs": [
        {
          "output_type": "display_data",
          "data": {
            "text/plain": [
              "<Figure size 640x480 with 1 Axes>"
            ],
            "image/png": "[encoded data removed]"
          },
          "metadata": {}
        }
      ]
    },
    {
      "cell_type": "code",
      "source": [
        "tf.train.latest_checkpoint(checkpoint_dir)\n"
      ],
      "metadata": {
        "id": "HxeCbxEBqVcZ",
        "colab": {
          "base_uri": "https://localhost:8080/",
          "height": 36
        },
        "outputId": "08f10711-d145-4511-fee9-be56b9eaad57"
      },
      "execution_count": 39,
      "outputs": [
        {
          "output_type": "execute_result",
          "data": {
            "text/plain": [
              "'tmp/checkpoints/ckpt_40'"
            ],
            "application/vnd.google.colaboratory.intrinsic+json": {
              "type": "string"
            }
          },
          "metadata": {},
          "execution_count": 39
        }
      ]
    },
    {
      "cell_type": "code",
      "source": [
        "simplified_batch_size = 1\n",
        "\n",
        "model = build_model(vocab_size, embedding_dim, rnn_units, batch_size=1)\n",
        "\n",
        "model.load_weights(tf.train.latest_checkpoint(checkpoint_dir))\n",
        "\n",
        "model.build(tf.TensorShape([simplified_batch_size, None]))"
      ],
      "metadata": {
        "id": "yERfZe8HqfmR"
      },
      "execution_count": 40,
      "outputs": []
    },
    {
      "cell_type": "code",
      "source": [
        "model.summary()\n"
      ],
      "metadata": {
        "id": "d45SP_-Jqhm9",
        "colab": {
          "base_uri": "https://localhost:8080/"
        },
        "outputId": "2319f1a2-0c49-4337-b2ee-536944b52051"
      },
      "execution_count": 41,
      "outputs": [
        {
          "output_type": "stream",
          "name": "stdout",
          "text": [
            "Model: \"sequential_2\"\n",
            "_________________________________________________________________\n",
            " Layer (type)                Output Shape              Param #   \n",
            "=================================================================\n",
            " embedding_2 (Embedding)     (1, None, 256)            16640     \n",
            "                                                                 \n",
            " lstm_1 (LSTM)               (1, None, 2056)           19022112  \n",
            "                                                                 \n",
            " dense_1 (Dense)             (1, None, 65)             133705    \n",
            "                                                                 \n",
            "=================================================================\n",
            "Total params: 19,172,457\n",
            "Trainable params: 19,172,457\n",
            "Non-trainable params: 0\n",
            "_________________________________________________________________\n"
          ]
        }
      ]
    },
    {
      "cell_type": "code",
      "source": [
        "def generate_text(model, start_string, num_generate = 1000, temperature=1.0):\n",
        "\n",
        "    input_indices = [char2index[s] for s in start_string]\n",
        "    input_indices = tf.expand_dims(input_indices, 0)\n",
        "\n",
        "    text_generated = []\n",
        "\n",
        "    model.reset_states()\n",
        "    for char_index in range(num_generate):\n",
        "        predictions = model(input_indices)\n",
        "        predictions = tf.squeeze(predictions, 0)\n",
        "\n",
        "        predictions = predictions / temperature\n",
        "        predicted_id = tf.random.categorical(\n",
        "        predictions,\n",
        "        num_samples=1\n",
        "        )[-1,0].numpy()\n",
        "\n",
        "\n",
        "        input_indices = tf.expand_dims([predicted_id], 0)\n",
        "\n",
        "        text_generated.append(index2char[predicted_id])\n",
        "\n",
        "    return (start_string + ''.join(text_generated))"
      ],
      "metadata": {
        "id": "WhhyVIgjqi8x"
      },
      "execution_count": 42,
      "outputs": []
    },
    {
      "cell_type": "code",
      "source": [
        "print(generate_text(model, start_string=u\"ROMEO: \"))\n"
      ],
      "metadata": {
        "id": "LImFLcFaqm3P",
        "colab": {
          "base_uri": "https://localhost:8080/"
        },
        "outputId": "501db451-b809-4f14-f12f-b8f60aa31fc5"
      },
      "execution_count": 43,
      "outputs": [
        {
          "output_type": "stream",
          "name": "stdout",
          "text": [
            "ROMEO: I could with mothers: I wonder what I lost\n",
            "\n",
            "GREMIO:\n",
            "What! I have not been called so of maids away;\n",
            "Treasons may yet undor state.\n",
            "\n",
            "BUCKINGHAM:\n",
            "What think you, majesty? it was thy gracious regreeting persh\n",
            "Than he will scope to swear, as in this hour,\n",
            "You make me at the feast. Mercitizens hardly ent.\n",
            "\n",
            "CAPULET:\n",
            "Death's pale peace?\n",
            "\n",
            "ROMEO:\n",
            "Of Mantua, taste forswearing as my weeping souls\n",
            "And watch you for your news and yet not go;\n",
            "Yet 'tis the reach of thee till I air\n",
            "And tells us what I bid the glory,\n",
            "That makes us ripe let so meet and die.\n",
            "\n",
            "FRIAR LAURENCE:\n",
            "Thou shalt be free\n",
            "As mountain wind she bid my stay lie there; at all the line\n",
            "Of our will-hot saying, sir, 'tis a mast.\n",
            "\n",
            "RICHMOND:\n",
            "Good excast I further have to take King Richard and myself shall power\n",
            "To the pleech within, does not the south might lay the old\n",
            "man and his summer beauty to the deceit from receiving\n",
            "As the strong link deall out with the dug!\n",
            "Shake quoth I prospect with him, Hengeasted as changed complaints.\n",
            "\n",
            "HENRY BOLIN\n"
          ]
        }
      ]
    },
    {
      "cell_type": "code",
      "source": [
        "print(generate_text(model, start_string=u\"ROMEO: \", temperature=1.5))\n"
      ],
      "metadata": {
        "id": "ffWcg0DWqo58",
        "colab": {
          "base_uri": "https://localhost:8080/"
        },
        "outputId": "16532159-d13b-4b11-c7f2-aa7de45aa10a"
      },
      "execution_count": 44,
      "outputs": [
        {
          "output_type": "stream",
          "name": "stdout",
          "text": [
            "ROMEO: it were as good\n",
            "To prove it, and if you seek occasion of offence?\n",
            "Terms sinks on the heaven and deg bastard and\n",
            "To be ing like me back again: face, wife:\n",
            "Now. Montague, or moth both these year since,\n",
            "Thy breath of chanaker them sithatine, her widow.\n",
            "Is't possible the Eemner.\n",
            "\n",
            "BRUTUS:\n",
            "In that there's charity, being assured,\n",
            "Hen vait wit seeks? Come, Claudio, dealing?\n",
            "\n",
            "NORTHUMBERLAND:\n",
            "NREY:\n",
            "Strong myster hunger s not?\n",
            "\n",
            "Servant;\n",
            "And I thinDY VI\n",
            "\n",
            "SEBASTIAN:\n",
            "Why, Farewell.\n",
            "\n",
            "BIONDELLO:\n",
            "Why in this rude aside?\n",
            "\n",
            "ISABELLA:\n",
            "Can there been,\n",
            "Let not to-morrow to the newer title of that: along Edward,\n",
            "Her vial remishouse reasons,\n",
            "More worrerful iratory compliment;\n",
            "ELE:\n",
            "Thy child, by Jesumperer.\n",
            "\n",
            "KING RICHARD III:\n",
            "O blessed, blessed batt!\n",
            "Hatt quen'st me patience to ese grace and grows the crown,\n",
            "Which waste of it will Noeforce pie ut Mowbray their feasure.\n",
            "\n",
            "KING Romeowithstrat s charmenQUEEN ELIZABETH:\n",
            "You g which you accuse the s Nutland's mine,\n",
            "Dulling ANTIS:\n",
            "If King Lord Northumberland, his son.\n"
          ]
        }
      ]
    },
    {
      "cell_type": "code",
      "source": [
        "model_name = '/content/drive/MyDrive/text_generation_shakespeare_rnn.h5'\n",
        "model.save(model_name, save_format='h5')"
      ],
      "metadata": {
        "id": "oC5q0D6_qrnt",
        "colab": {
          "base_uri": "https://localhost:8080/"
        },
        "outputId": "09f8449c-159f-4443-c584-5a385f36eabd"
      },
      "execution_count": 45,
      "outputs": [
        {
          "output_type": "stream",
          "name": "stderr",
          "text": [
            "WARNING:tensorflow:Compiled the loaded model, but the compiled metrics have yet to be built. `model.compile_metrics` will be empty until you train or evaluate the model.\n"
          ]
        }
      ]
    },
    {
      "cell_type": "code",
      "source": [],
      "metadata": {
        "id": "NTSXqhtyq22K"
      },
      "execution_count": 45,
      "outputs": []
    }
  ]
}